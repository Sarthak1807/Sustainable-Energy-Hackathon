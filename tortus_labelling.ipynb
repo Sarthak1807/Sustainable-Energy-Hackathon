{
 "cells": [
  {
   "cell_type": "code",
   "execution_count": 1,
   "id": "f46d99c4",
   "metadata": {},
   "outputs": [
    {
     "name": "stdout",
     "output_type": "stream",
     "text": [
      "Collecting tortus\n",
      "  Downloading tortus-1.0.2-py3-none-any.whl (346 kB)\n",
      "Requirement already satisfied: ipywidgets>=7.5.1 in c:\\users\\decos\\anaconda3\\lib\\site-packages (from tortus) (7.6.5)\n",
      "Requirement already satisfied: pandas>=1.0.1 in c:\\users\\decos\\anaconda3\\lib\\site-packages (from tortus) (1.3.4)\n",
      "Requirement already satisfied: ipython>=7.12.0 in c:\\users\\decos\\anaconda3\\lib\\site-packages (from tortus) (7.29.0)\n",
      "Collecting jupyter-contrib-nbextensions>=0.5.1\n",
      "  Downloading jupyter_contrib_nbextensions-0.5.1-py2.py3-none-any.whl (20.9 MB)\n",
      "Requirement already satisfied: jedi>=0.16 in c:\\users\\decos\\anaconda3\\lib\\site-packages (from ipython>=7.12.0->tortus) (0.18.0)\n",
      "Requirement already satisfied: decorator in c:\\users\\decos\\anaconda3\\lib\\site-packages (from ipython>=7.12.0->tortus) (5.1.0)\n",
      "Requirement already satisfied: traitlets>=4.2 in c:\\users\\decos\\anaconda3\\lib\\site-packages (from ipython>=7.12.0->tortus) (5.1.0)\n",
      "Requirement already satisfied: prompt-toolkit!=3.0.0,!=3.0.1,<3.1.0,>=2.0.0 in c:\\users\\decos\\anaconda3\\lib\\site-packages (from ipython>=7.12.0->tortus) (3.0.20)\n",
      "Requirement already satisfied: pickleshare in c:\\users\\decos\\anaconda3\\lib\\site-packages (from ipython>=7.12.0->tortus) (0.7.5)\n",
      "Requirement already satisfied: colorama in c:\\users\\decos\\anaconda3\\lib\\site-packages (from ipython>=7.12.0->tortus) (0.4.4)\n",
      "Requirement already satisfied: setuptools>=18.5 in c:\\users\\decos\\anaconda3\\lib\\site-packages (from ipython>=7.12.0->tortus) (59.3.0)\n",
      "Requirement already satisfied: matplotlib-inline in c:\\users\\decos\\anaconda3\\lib\\site-packages (from ipython>=7.12.0->tortus) (0.1.2)\n",
      "Requirement already satisfied: backcall in c:\\users\\decos\\anaconda3\\lib\\site-packages (from ipython>=7.12.0->tortus) (0.2.0)\n",
      "Requirement already satisfied: pygments in c:\\users\\decos\\anaconda3\\lib\\site-packages (from ipython>=7.12.0->tortus) (2.10.0)\n",
      "Requirement already satisfied: ipython-genutils~=0.2.0 in c:\\users\\decos\\anaconda3\\lib\\site-packages (from ipywidgets>=7.5.1->tortus) (0.2.0)\n",
      "Requirement already satisfied: ipykernel>=4.5.1 in c:\\users\\decos\\anaconda3\\lib\\site-packages (from ipywidgets>=7.5.1->tortus) (6.4.1)\n",
      "Requirement already satisfied: jupyterlab-widgets>=1.0.0 in c:\\users\\decos\\anaconda3\\lib\\site-packages (from ipywidgets>=7.5.1->tortus) (1.0.0)\n",
      "Requirement already satisfied: nbformat>=4.2.0 in c:\\users\\decos\\anaconda3\\lib\\site-packages (from ipywidgets>=7.5.1->tortus) (5.1.3)\n",
      "Requirement already satisfied: widgetsnbextension~=3.5.0 in c:\\users\\decos\\anaconda3\\lib\\site-packages (from ipywidgets>=7.5.1->tortus) (3.5.1)\n",
      "Requirement already satisfied: tornado in c:\\users\\decos\\anaconda3\\lib\\site-packages (from jupyter-contrib-nbextensions>=0.5.1->tortus) (6.1)\n",
      "Collecting jupyter-highlight-selected-word>=0.1.1\n",
      "  Downloading jupyter_highlight_selected_word-0.2.0-py2.py3-none-any.whl (11 kB)\n",
      "Collecting jupyter-contrib-core>=0.3.3\n",
      "  Downloading jupyter_contrib_core-0.3.3-py2.py3-none-any.whl (18 kB)\n",
      "Collecting jupyter-latex-envs>=1.3.8\n",
      "  Downloading jupyter_latex_envs-1.4.6.tar.gz (861 kB)\n",
      "  Preparing metadata (setup.py): started\n",
      "  Preparing metadata (setup.py): finished with status 'done'\n",
      "Collecting jupyter-nbextensions-configurator>=0.4.0\n",
      "  Downloading jupyter_nbextensions_configurator-0.4.1.tar.gz (479 kB)\n",
      "  Preparing metadata (setup.py): started\n",
      "  Preparing metadata (setup.py): finished with status 'done'\n",
      "Requirement already satisfied: nbconvert>=4.2 in c:\\users\\decos\\anaconda3\\lib\\site-packages (from jupyter-contrib-nbextensions>=0.5.1->tortus) (6.1.0)\n",
      "Requirement already satisfied: pyyaml in c:\\users\\decos\\anaconda3\\lib\\site-packages (from jupyter-contrib-nbextensions>=0.5.1->tortus) (6.0)\n",
      "Requirement already satisfied: notebook>=4.0 in c:\\users\\decos\\anaconda3\\lib\\site-packages (from jupyter-contrib-nbextensions>=0.5.1->tortus) (6.4.5)\n",
      "Requirement already satisfied: jupyter-core in c:\\users\\decos\\anaconda3\\lib\\site-packages (from jupyter-contrib-nbextensions>=0.5.1->tortus) (4.8.1)\n",
      "Requirement already satisfied: lxml in c:\\users\\decos\\anaconda3\\lib\\site-packages (from jupyter-contrib-nbextensions>=0.5.1->tortus) (4.6.3)\n",
      "Requirement already satisfied: numpy>=1.17.3 in c:\\users\\decos\\anaconda3\\lib\\site-packages (from pandas>=1.0.1->tortus) (1.20.3)\n",
      "Requirement already satisfied: python-dateutil>=2.7.3 in c:\\users\\decos\\anaconda3\\lib\\site-packages (from pandas>=1.0.1->tortus) (2.8.2)\n",
      "Requirement already satisfied: pytz>=2017.3 in c:\\users\\decos\\anaconda3\\lib\\site-packages (from pandas>=1.0.1->tortus) (2021.3)\n",
      "Requirement already satisfied: jupyter-client<8.0 in c:\\users\\decos\\anaconda3\\lib\\site-packages (from ipykernel>=4.5.1->ipywidgets>=7.5.1->tortus) (6.1.12)\n",
      "Requirement already satisfied: debugpy<2.0,>=1.0.0 in c:\\users\\decos\\anaconda3\\lib\\site-packages (from ipykernel>=4.5.1->ipywidgets>=7.5.1->tortus) (1.4.1)\n",
      "Requirement already satisfied: parso<0.9.0,>=0.8.0 in c:\\users\\decos\\anaconda3\\lib\\site-packages (from jedi>=0.16->ipython>=7.12.0->tortus) (0.8.2)\n",
      "Requirement already satisfied: mistune<2,>=0.8.1 in c:\\users\\decos\\anaconda3\\lib\\site-packages (from nbconvert>=4.2->jupyter-contrib-nbextensions>=0.5.1->tortus) (0.8.4)\n",
      "Requirement already satisfied: jinja2>=2.4 in c:\\users\\decos\\anaconda3\\lib\\site-packages (from nbconvert>=4.2->jupyter-contrib-nbextensions>=0.5.1->tortus) (2.11.3)\n",
      "Requirement already satisfied: nbclient<0.6.0,>=0.5.0 in c:\\users\\decos\\anaconda3\\lib\\site-packages (from nbconvert>=4.2->jupyter-contrib-nbextensions>=0.5.1->tortus) (0.5.3)\n",
      "Requirement already satisfied: entrypoints>=0.2.2 in c:\\users\\decos\\anaconda3\\lib\\site-packages (from nbconvert>=4.2->jupyter-contrib-nbextensions>=0.5.1->tortus) (0.3)\n",
      "Requirement already satisfied: bleach in c:\\users\\decos\\anaconda3\\lib\\site-packages (from nbconvert>=4.2->jupyter-contrib-nbextensions>=0.5.1->tortus) (4.0.0)\n",
      "Requirement already satisfied: jupyterlab-pygments in c:\\users\\decos\\anaconda3\\lib\\site-packages (from nbconvert>=4.2->jupyter-contrib-nbextensions>=0.5.1->tortus) (0.1.2)\n",
      "Requirement already satisfied: testpath in c:\\users\\decos\\anaconda3\\lib\\site-packages (from nbconvert>=4.2->jupyter-contrib-nbextensions>=0.5.1->tortus) (0.5.0)\n",
      "Requirement already satisfied: pandocfilters>=1.4.1 in c:\\users\\decos\\anaconda3\\lib\\site-packages (from nbconvert>=4.2->jupyter-contrib-nbextensions>=0.5.1->tortus) (1.4.3)\n",
      "Requirement already satisfied: defusedxml in c:\\users\\decos\\anaconda3\\lib\\site-packages (from nbconvert>=4.2->jupyter-contrib-nbextensions>=0.5.1->tortus) (0.7.1)\n",
      "Requirement already satisfied: jsonschema!=2.5.0,>=2.4 in c:\\users\\decos\\anaconda3\\lib\\site-packages (from nbformat>=4.2.0->ipywidgets>=7.5.1->tortus) (3.2.0)\n",
      "Requirement already satisfied: argon2-cffi in c:\\users\\decos\\anaconda3\\lib\\site-packages (from notebook>=4.0->jupyter-contrib-nbextensions>=0.5.1->tortus) (20.1.0)\n",
      "Requirement already satisfied: Send2Trash>=1.5.0 in c:\\users\\decos\\anaconda3\\lib\\site-packages (from notebook>=4.0->jupyter-contrib-nbextensions>=0.5.1->tortus) (1.8.0)\n",
      "Requirement already satisfied: terminado>=0.8.3 in c:\\users\\decos\\anaconda3\\lib\\site-packages (from notebook>=4.0->jupyter-contrib-nbextensions>=0.5.1->tortus) (0.9.4)\n",
      "Requirement already satisfied: pyzmq>=17 in c:\\users\\decos\\anaconda3\\lib\\site-packages (from notebook>=4.0->jupyter-contrib-nbextensions>=0.5.1->tortus) (22.2.1)\n",
      "Requirement already satisfied: prometheus-client in c:\\users\\decos\\anaconda3\\lib\\site-packages (from notebook>=4.0->jupyter-contrib-nbextensions>=0.5.1->tortus) (0.11.0)\n",
      "Requirement already satisfied: pywin32>=1.0 in c:\\users\\decos\\anaconda3\\lib\\site-packages (from jupyter-core->jupyter-contrib-nbextensions>=0.5.1->tortus) (228)\n",
      "Requirement already satisfied: wcwidth in c:\\users\\decos\\anaconda3\\lib\\site-packages (from prompt-toolkit!=3.0.0,!=3.0.1,<3.1.0,>=2.0.0->ipython>=7.12.0->tortus) (0.2.5)\n",
      "Requirement already satisfied: six>=1.5 in c:\\users\\decos\\anaconda3\\lib\\site-packages (from python-dateutil>=2.7.3->pandas>=1.0.1->tortus) (1.16.0)\n",
      "Requirement already satisfied: MarkupSafe>=0.23 in c:\\users\\decos\\anaconda3\\lib\\site-packages (from jinja2>=2.4->nbconvert>=4.2->jupyter-contrib-nbextensions>=0.5.1->tortus) (1.1.1)\n",
      "Requirement already satisfied: pyrsistent>=0.14.0 in c:\\users\\decos\\anaconda3\\lib\\site-packages (from jsonschema!=2.5.0,>=2.4->nbformat>=4.2.0->ipywidgets>=7.5.1->tortus) (0.18.0)\n",
      "Requirement already satisfied: attrs>=17.4.0 in c:\\users\\decos\\anaconda3\\lib\\site-packages (from jsonschema!=2.5.0,>=2.4->nbformat>=4.2.0->ipywidgets>=7.5.1->tortus) (21.2.0)\n",
      "Requirement already satisfied: nest-asyncio in c:\\users\\decos\\anaconda3\\lib\\site-packages (from nbclient<0.6.0,>=0.5.0->nbconvert>=4.2->jupyter-contrib-nbextensions>=0.5.1->tortus) (1.5.1)\n",
      "Requirement already satisfied: async-generator in c:\\users\\decos\\anaconda3\\lib\\site-packages (from nbclient<0.6.0,>=0.5.0->nbconvert>=4.2->jupyter-contrib-nbextensions>=0.5.1->tortus) (1.10)\n",
      "Requirement already satisfied: pywinpty>=0.5 in c:\\users\\decos\\anaconda3\\lib\\site-packages (from terminado>=0.8.3->notebook>=4.0->jupyter-contrib-nbextensions>=0.5.1->tortus) (0.5.7)\n",
      "Requirement already satisfied: cffi>=1.0.0 in c:\\users\\decos\\anaconda3\\lib\\site-packages (from argon2-cffi->notebook>=4.0->jupyter-contrib-nbextensions>=0.5.1->tortus) (1.14.6)\n",
      "Requirement already satisfied: webencodings in c:\\users\\decos\\anaconda3\\lib\\site-packages (from bleach->nbconvert>=4.2->jupyter-contrib-nbextensions>=0.5.1->tortus) (0.5.1)\n",
      "Requirement already satisfied: packaging in c:\\users\\decos\\anaconda3\\lib\\site-packages (from bleach->nbconvert>=4.2->jupyter-contrib-nbextensions>=0.5.1->tortus) (21.0)\n",
      "Requirement already satisfied: pycparser in c:\\users\\decos\\anaconda3\\lib\\site-packages (from cffi>=1.0.0->argon2-cffi->notebook>=4.0->jupyter-contrib-nbextensions>=0.5.1->tortus) (2.20)\n",
      "Requirement already satisfied: pyparsing>=2.0.2 in c:\\users\\decos\\anaconda3\\lib\\site-packages (from packaging->bleach->nbconvert>=4.2->jupyter-contrib-nbextensions>=0.5.1->tortus) (3.0.4)\n",
      "Building wheels for collected packages: jupyter-latex-envs, jupyter-nbextensions-configurator\n",
      "  Building wheel for jupyter-latex-envs (setup.py): started\n",
      "  Building wheel for jupyter-latex-envs (setup.py): finished with status 'done'\n",
      "  Created wheel for jupyter-latex-envs: filename=jupyter_latex_envs-1.4.6-py2.py3-none-any.whl size=963415 sha256=06ccac886c88eb87b9df6bf33dd08458e818044aec9e7863a673c6f6cfe78f9d\n",
      "  Stored in directory: c:\\users\\decos\\appdata\\local\\pip\\cache\\wheels\\f7\\b5\\78\\f5b899dd8fc137fe0bfe26b382713f6d171c9eac2fb1fa091f\n",
      "  Building wheel for jupyter-nbextensions-configurator (setup.py): started\n",
      "  Building wheel for jupyter-nbextensions-configurator (setup.py): finished with status 'done'\n",
      "  Created wheel for jupyter-nbextensions-configurator: filename=jupyter_nbextensions_configurator-0.4.1-py2.py3-none-any.whl size=465842 sha256=3359d7d0ce69042b2427e8362a293c4f216db5fdb95da01eb35f135f4cb011ad\n",
      "  Stored in directory: c:\\users\\decos\\appdata\\local\\pip\\cache\\wheels\\94\\62\\cd\\233da8580d4e1228ab3fbede758ab1b97174bf9d9cea095049\n",
      "Successfully built jupyter-latex-envs jupyter-nbextensions-configurator\n",
      "Installing collected packages: jupyter-contrib-core, jupyter-nbextensions-configurator, jupyter-latex-envs, jupyter-highlight-selected-word, jupyter-contrib-nbextensions, tortus\n",
      "Successfully installed jupyter-contrib-core-0.3.3 jupyter-contrib-nbextensions-0.5.1 jupyter-highlight-selected-word-0.2.0 jupyter-latex-envs-1.4.6 jupyter-nbextensions-configurator-0.4.1 tortus-1.0.2\n"
     ]
    }
   ],
   "source": [
    "!pip install tortus"
   ]
  },
  {
   "cell_type": "code",
   "execution_count": 1,
   "id": "806afeb9",
   "metadata": {},
   "outputs": [],
   "source": [
    "import pandas as pd\n",
    "from datetime import datetime\n",
    "import sysconfig\n",
    "from ipywidgets import Image, HTML, Button, IntProgress, \\\n",
    "    Box, HBox, VBox, GridBox, Layout, ButtonStyle, Output\n",
    "from IPython.display import display, clear_output"
   ]
  },
  {
   "cell_type": "code",
   "execution_count": 4,
   "id": "444d9f52",
   "metadata": {},
   "outputs": [
    {
     "data": {
      "text/html": [
       "<div><div id=ceba0c17-c010-4ea4-b0a5-a6409d028665 style=\"display:none; background-color:#9D6CFF; color:white; width:200px; height:30px; padding-left:5px; border-radius:4px; flex-direction:row; justify-content:space-around; align-items:center;\" onmouseover=\"this.style.backgroundColor='#BA9BF8'\" onmouseout=\"this.style.backgroundColor='#9D6CFF'\" onclick=\"window.commands?.execute('create-mitosheet-from-dataframe-output');\">See Full Dataframe in Mito</div> <script> if (window.commands.hasCommand('create-mitosheet-from-dataframe-output')) document.getElementById('ceba0c17-c010-4ea4-b0a5-a6409d028665').style.display = 'flex' </script> <table border=\"1\" class=\"dataframe\">\n",
       "  <thead>\n",
       "    <tr style=\"text-align: right;\">\n",
       "      <th></th>\n",
       "      <th>location</th>\n",
       "      <th>date_time</th>\n",
       "      <th>solarvoltage</th>\n",
       "      <th>solarcurrent</th>\n",
       "      <th>solarenergy</th>\n",
       "      <th>solarpower</th>\n",
       "      <th>batteryvoltage</th>\n",
       "      <th>batterycurrent</th>\n",
       "      <th>batterypower</th>\n",
       "      <th>load_energy1</th>\n",
       "      <th>...</th>\n",
       "      <th>load_energy2</th>\n",
       "      <th>load_power2</th>\n",
       "      <th>load_current2</th>\n",
       "      <th>load_voltage2</th>\n",
       "      <th>inverter_input_power</th>\n",
       "      <th>inverter_output_power</th>\n",
       "      <th>inverter_input_energy</th>\n",
       "      <th>inverter_output_energy</th>\n",
       "      <th>irradiance</th>\n",
       "      <th>temperature</th>\n",
       "    </tr>\n",
       "  </thead>\n",
       "  <tbody>\n",
       "    <tr>\n",
       "      <th>0</th>\n",
       "      <td>Peru</td>\n",
       "      <td>2015-12-02 00:00:27</td>\n",
       "      <td>0.0</td>\n",
       "      <td>0.0</td>\n",
       "      <td>0.0</td>\n",
       "      <td>0.0</td>\n",
       "      <td>98.78</td>\n",
       "      <td>0.0</td>\n",
       "      <td>0.0</td>\n",
       "      <td>0.00</td>\n",
       "      <td>...</td>\n",
       "      <td>0.00</td>\n",
       "      <td>81.46</td>\n",
       "      <td>0.43</td>\n",
       "      <td>188.58</td>\n",
       "      <td>0.52</td>\n",
       "      <td>0.32</td>\n",
       "      <td>0.000</td>\n",
       "      <td>0.000</td>\n",
       "      <td>15</td>\n",
       "      <td>38.44</td>\n",
       "    </tr>\n",
       "    <tr>\n",
       "      <th>1</th>\n",
       "      <td>Peru</td>\n",
       "      <td>2015-12-02 00:01:40</td>\n",
       "      <td>0.0</td>\n",
       "      <td>0.0</td>\n",
       "      <td>0.0</td>\n",
       "      <td>0.0</td>\n",
       "      <td>98.80</td>\n",
       "      <td>0.0</td>\n",
       "      <td>0.0</td>\n",
       "      <td>0.01</td>\n",
       "      <td>...</td>\n",
       "      <td>0.01</td>\n",
       "      <td>71.66</td>\n",
       "      <td>0.38</td>\n",
       "      <td>188.51</td>\n",
       "      <td>0.52</td>\n",
       "      <td>0.32</td>\n",
       "      <td>0.007</td>\n",
       "      <td>0.000</td>\n",
       "      <td>0</td>\n",
       "      <td>38.44</td>\n",
       "    </tr>\n",
       "    <tr>\n",
       "      <th>2</th>\n",
       "      <td>Peru</td>\n",
       "      <td>2015-12-02 00:02:52</td>\n",
       "      <td>0.0</td>\n",
       "      <td>0.0</td>\n",
       "      <td>0.0</td>\n",
       "      <td>0.0</td>\n",
       "      <td>98.55</td>\n",
       "      <td>0.0</td>\n",
       "      <td>0.0</td>\n",
       "      <td>0.00</td>\n",
       "      <td>...</td>\n",
       "      <td>0.00</td>\n",
       "      <td>81.26</td>\n",
       "      <td>0.43</td>\n",
       "      <td>188.12</td>\n",
       "      <td>0.52</td>\n",
       "      <td>0.32</td>\n",
       "      <td>0.000</td>\n",
       "      <td>0.007</td>\n",
       "      <td>15</td>\n",
       "      <td>38.44</td>\n",
       "    </tr>\n",
       "    <tr>\n",
       "      <th>3</th>\n",
       "      <td>Peru</td>\n",
       "      <td>2015-12-02 00:04:05</td>\n",
       "      <td>0.0</td>\n",
       "      <td>0.0</td>\n",
       "      <td>0.0</td>\n",
       "      <td>0.0</td>\n",
       "      <td>98.64</td>\n",
       "      <td>0.0</td>\n",
       "      <td>0.0</td>\n",
       "      <td>0.00</td>\n",
       "      <td>...</td>\n",
       "      <td>0.00</td>\n",
       "      <td>87.84</td>\n",
       "      <td>0.46</td>\n",
       "      <td>188.29</td>\n",
       "      <td>0.66</td>\n",
       "      <td>0.45</td>\n",
       "      <td>0.021</td>\n",
       "      <td>0.007</td>\n",
       "      <td>0</td>\n",
       "      <td>38.44</td>\n",
       "    </tr>\n",
       "    <tr>\n",
       "      <th>4</th>\n",
       "      <td>Peru</td>\n",
       "      <td>2015-12-02 00:05:18</td>\n",
       "      <td>0.0</td>\n",
       "      <td>0.0</td>\n",
       "      <td>0.0</td>\n",
       "      <td>0.0</td>\n",
       "      <td>98.59</td>\n",
       "      <td>0.0</td>\n",
       "      <td>0.0</td>\n",
       "      <td>0.01</td>\n",
       "      <td>...</td>\n",
       "      <td>0.00</td>\n",
       "      <td>78.17</td>\n",
       "      <td>0.41</td>\n",
       "      <td>188.51</td>\n",
       "      <td>0.66</td>\n",
       "      <td>0.44</td>\n",
       "      <td>0.007</td>\n",
       "      <td>0.007</td>\n",
       "      <td>0</td>\n",
       "      <td>38.44</td>\n",
       "    </tr>\n",
       "  </tbody>\n",
       "</table></div>"
      ],
      "text/plain": [
       "  location            date_time  solarvoltage  solarcurrent  solarenergy  \\\n",
       "0     Peru  2015-12-02 00:00:27           0.0           0.0          0.0   \n",
       "1     Peru  2015-12-02 00:01:40           0.0           0.0          0.0   \n",
       "2     Peru  2015-12-02 00:02:52           0.0           0.0          0.0   \n",
       "3     Peru  2015-12-02 00:04:05           0.0           0.0          0.0   \n",
       "4     Peru  2015-12-02 00:05:18           0.0           0.0          0.0   \n",
       "\n",
       "   solarpower  batteryvoltage  batterycurrent  batterypower  load_energy1  \\\n",
       "0         0.0           98.78             0.0           0.0          0.00   \n",
       "1         0.0           98.80             0.0           0.0          0.01   \n",
       "2         0.0           98.55             0.0           0.0          0.00   \n",
       "3         0.0           98.64             0.0           0.0          0.00   \n",
       "4         0.0           98.59             0.0           0.0          0.01   \n",
       "\n",
       "   ...  load_energy2  load_power2  load_current2  load_voltage2  \\\n",
       "0  ...          0.00        81.46           0.43         188.58   \n",
       "1  ...          0.01        71.66           0.38         188.51   \n",
       "2  ...          0.00        81.26           0.43         188.12   \n",
       "3  ...          0.00        87.84           0.46         188.29   \n",
       "4  ...          0.00        78.17           0.41         188.51   \n",
       "\n",
       "   inverter_input_power  inverter_output_power  inverter_input_energy  \\\n",
       "0                  0.52                   0.32                  0.000   \n",
       "1                  0.52                   0.32                  0.007   \n",
       "2                  0.52                   0.32                  0.000   \n",
       "3                  0.66                   0.45                  0.021   \n",
       "4                  0.66                   0.44                  0.007   \n",
       "\n",
       "   inverter_output_energy  irradiance  temperature  \n",
       "0                   0.000          15        38.44  \n",
       "1                   0.000           0        38.44  \n",
       "2                   0.007          15        38.44  \n",
       "3                   0.007           0        38.44  \n",
       "4                   0.007           0        38.44  \n",
       "\n",
       "[5 rows x 23 columns]"
      ]
     },
     "execution_count": 4,
     "metadata": {},
     "output_type": "execute_result"
    }
   ],
   "source": [
    "data=pd.read_csv(\"Final_SolarData.csv\")\n",
    "data.head()"
   ]
  },
  {
   "cell_type": "code",
   "execution_count": 5,
   "id": "b4ff620e",
   "metadata": {},
   "outputs": [],
   "source": [
    "from tortus import Tortus\n",
    "tortus = Tortus(data,\n",
    "    'location',\n",
    "    num_records=3,\n",
    "    id_column='temperature'\n",
    ")"
   ]
  },
  {
   "cell_type": "code",
   "execution_count": 6,
   "id": "de54cb4f",
   "metadata": {},
   "outputs": [
    {
     "data": {
      "application/vnd.jupyter.widget-view+json": {
       "model_id": "2b7fdb80708a4bdea3e179c28a92c170",
       "version_major": 2,
       "version_minor": 0
      },
      "text/plain": [
       "HBox(children=(Image(value=b'\\x89PNG\\r\\n\\x1a\\n\\x00\\x00\\x00\\rIHDR\\x00\\x00#0\\x00\\x00\\x06\\xc4\\x08\\x06\\x00\\x00\\x00…"
      ]
     },
     "metadata": {},
     "output_type": "display_data"
    },
    {
     "data": {
      "application/vnd.jupyter.widget-view+json": {
       "model_id": "6453df6f08a2474c8ff293d701f0cc15",
       "version_major": 2,
       "version_minor": 0
      },
      "text/plain": [
       "HTML(value='Click on the label corresponding with the text below. Each selection requires                 conf…"
      ]
     },
     "metadata": {},
     "output_type": "display_data"
    },
    {
     "data": {
      "application/vnd.jupyter.widget-view+json": {
       "model_id": "af06e094a16f41d880887bbf189e1b43",
       "version_major": 2,
       "version_minor": 0
      },
      "text/plain": [
       "HTML(value='<h4>Peru</h4>')"
      ]
     },
     "metadata": {},
     "output_type": "display_data"
    },
    {
     "data": {
      "application/vnd.jupyter.widget-view+json": {
       "model_id": "6cef3ed7125f4a43a2ff948fd54f2eba",
       "version_major": 2,
       "version_minor": 0
      },
      "text/plain": [
       "GridBox(children=(VBox(children=(Box(children=(Button(description='Positve', layout=Layout(border='solid', fle…"
      ]
     },
     "metadata": {},
     "output_type": "display_data"
    },
    {
     "data": {
      "application/vnd.jupyter.widget-view+json": {
       "model_id": "5b63b40898864a6da0aebe35dc5b5058",
       "version_major": 2,
       "version_minor": 0
      },
      "text/plain": [
       "Output()"
      ]
     },
     "metadata": {},
     "output_type": "display_data"
    }
   ],
   "source": [
    "tortus.annotate()"
   ]
  },
  {
   "cell_type": "code",
   "execution_count": 11,
   "id": "5b359bb6",
   "metadata": {},
   "outputs": [
    {
     "data": {
      "text/html": [
       "<div><div id=7c7c0b8b-9dac-45ba-8aa8-829b6215d489 style=\"display:none; background-color:#9D6CFF; color:white; width:200px; height:30px; padding-left:5px; border-radius:4px; flex-direction:row; justify-content:space-around; align-items:center;\" onmouseover=\"this.style.backgroundColor='#BA9BF8'\" onmouseout=\"this.style.backgroundColor='#9D6CFF'\" onclick=\"window.commands?.execute('create-mitosheet-from-dataframe-output');\">See Full Dataframe in Mito</div> <script> if (window.commands.hasCommand('create-mitosheet-from-dataframe-output')) document.getElementById('7c7c0b8b-9dac-45ba-8aa8-829b6215d489').style.display = 'flex' </script> <table border=\"1\" class=\"dataframe\">\n",
       "  <thead>\n",
       "    <tr style=\"text-align: right;\">\n",
       "      <th></th>\n",
       "      <th>temperature</th>\n",
       "      <th>location</th>\n",
       "      <th>label</th>\n",
       "      <th>annotated_at</th>\n",
       "    </tr>\n",
       "  </thead>\n",
       "  <tbody>\n",
       "    <tr>\n",
       "      <th>0</th>\n",
       "      <td>38.44</td>\n",
       "      <td>Peru</td>\n",
       "      <td>positve</td>\n",
       "      <td>2022-01-08 17:54:32</td>\n",
       "    </tr>\n",
       "    <tr>\n",
       "      <th>1</th>\n",
       "      <td>38.44</td>\n",
       "      <td>Peru</td>\n",
       "      <td>neutral</td>\n",
       "      <td>2022-01-08 17:54:42</td>\n",
       "    </tr>\n",
       "    <tr>\n",
       "      <th>2</th>\n",
       "      <td>39.65</td>\n",
       "      <td>Peru</td>\n",
       "      <td>negative</td>\n",
       "      <td>2022-01-08 17:54:44</td>\n",
       "    </tr>\n",
       "  </tbody>\n",
       "</table></div>"
      ],
      "text/plain": [
       "   temperature location     label        annotated_at\n",
       "0        38.44     Peru   positve 2022-01-08 17:54:32\n",
       "1        38.44     Peru   neutral 2022-01-08 17:54:42\n",
       "2        39.65     Peru  negative 2022-01-08 17:54:44"
      ]
     },
     "execution_count": 11,
     "metadata": {},
     "output_type": "execute_result"
    }
   ],
   "source": [
    "tortus.annotations"
   ]
  }
 ],
 "metadata": {
  "kernelspec": {
   "display_name": "Python 3 (ipykernel)",
   "language": "python",
   "name": "python3"
  },
  "language_info": {
   "codemirror_mode": {
    "name": "ipython",
    "version": 3
   },
   "file_extension": ".py",
   "mimetype": "text/x-python",
   "name": "python",
   "nbconvert_exporter": "python",
   "pygments_lexer": "ipython3",
   "version": "3.9.7"
  }
 },
 "nbformat": 4,
 "nbformat_minor": 5
}
